{
 "cells": [
  {
   "cell_type": "markdown",
   "id": "c81cec02",
   "metadata": {
    "papermill": {
     "duration": 0.02617,
     "end_time": "2022-05-05T15:21:43.332050",
     "exception": false,
     "start_time": "2022-05-05T15:21:43.305880",
     "status": "completed"
    },
    "tags": []
   },
   "source": [
    "**This notebook is an exercise in the [Data Visualization](https://www.kaggle.com/learn/data-visualization) course.  You can reference the tutorial at [this link](https://www.kaggle.com/alexisbcook/scatter-plots).**\n",
    "\n",
    "---\n"
   ]
  },
  {
   "cell_type": "markdown",
   "id": "e0571236",
   "metadata": {
    "papermill": {
     "duration": 0.024519,
     "end_time": "2022-05-05T15:21:43.381312",
     "exception": false,
     "start_time": "2022-05-05T15:21:43.356793",
     "status": "completed"
    },
    "tags": []
   },
   "source": [
    "In this exercise, you will use your new knowledge to propose a solution to a real-world scenario.  To succeed, you will need to import data into Python, answer questions using the data, and generate **scatter plots** to understand patterns in the data.\n",
    "\n",
    "## Scenario\n",
    "\n",
    "You work for a major candy producer, and your goal is to write a report that your company can use to guide the design of its next product.  Soon after starting your research, you stumble across this [very interesting dataset](https://fivethirtyeight.com/features/the-ultimate-halloween-candy-power-ranking/) containing results from a fun survey to crowdsource favorite candies.\n",
    "\n",
    "## Setup\n",
    "\n",
    "Run the next cell to import and configure the Python libraries that you need to complete the exercise."
   ]
  },
  {
   "cell_type": "code",
   "execution_count": 1,
   "id": "ee4f62b9",
   "metadata": {
    "execution": {
     "iopub.execute_input": "2022-05-05T15:21:43.433000Z",
     "iopub.status.busy": "2022-05-05T15:21:43.432307Z",
     "iopub.status.idle": "2022-05-05T15:21:44.477133Z",
     "shell.execute_reply": "2022-05-05T15:21:44.476270Z"
    },
    "papermill": {
     "duration": 1.073324,
     "end_time": "2022-05-05T15:21:44.479374",
     "exception": false,
     "start_time": "2022-05-05T15:21:43.406050",
     "status": "completed"
    },
    "tags": []
   },
   "outputs": [
    {
     "name": "stdout",
     "output_type": "stream",
     "text": [
      "Setup Complete\n"
     ]
    }
   ],
   "source": [
    "import pandas as pd\n",
    "pd.plotting.register_matplotlib_converters()\n",
    "import matplotlib.pyplot as plt\n",
    "%matplotlib inline\n",
    "import seaborn as sns\n",
    "print(\"Setup Complete\")"
   ]
  },
  {
   "cell_type": "markdown",
   "id": "fc87d309",
   "metadata": {
    "papermill": {
     "duration": 0.024684,
     "end_time": "2022-05-05T15:21:44.529648",
     "exception": false,
     "start_time": "2022-05-05T15:21:44.504964",
     "status": "completed"
    },
    "tags": []
   },
   "source": [
    "The questions below will give you feedback on your work. Run the following cell to set up our feedback system."
   ]
  },
  {
   "cell_type": "code",
   "execution_count": 2,
   "id": "57403221",
   "metadata": {
    "execution": {
     "iopub.execute_input": "2022-05-05T15:21:44.583162Z",
     "iopub.status.busy": "2022-05-05T15:21:44.582571Z",
     "iopub.status.idle": "2022-05-05T15:21:44.645983Z",
     "shell.execute_reply": "2022-05-05T15:21:44.644769Z"
    },
    "papermill": {
     "duration": 0.093344,
     "end_time": "2022-05-05T15:21:44.648057",
     "exception": false,
     "start_time": "2022-05-05T15:21:44.554713",
     "status": "completed"
    },
    "tags": []
   },
   "outputs": [
    {
     "name": "stdout",
     "output_type": "stream",
     "text": [
      "Setup Complete\n"
     ]
    }
   ],
   "source": [
    "# Set up code checking\n",
    "import os\n",
    "if not os.path.exists(\"../input/candy.csv\"):\n",
    "    os.symlink(\"../input/data-for-datavis/candy.csv\", \"../input/candy.csv\") \n",
    "from learntools.core import binder\n",
    "binder.bind(globals())\n",
    "from learntools.data_viz_to_coder.ex4 import *\n",
    "print(\"Setup Complete\")"
   ]
  },
  {
   "cell_type": "markdown",
   "id": "95ae4676",
   "metadata": {
    "papermill": {
     "duration": 0.025067,
     "end_time": "2022-05-05T15:21:44.698883",
     "exception": false,
     "start_time": "2022-05-05T15:21:44.673816",
     "status": "completed"
    },
    "tags": []
   },
   "source": [
    "## Step 1: Load the Data\n",
    "\n",
    "Read the candy data file into `candy_data`.  Use the `\"id\"` column to label the rows."
   ]
  },
  {
   "cell_type": "code",
   "execution_count": 3,
   "id": "68258c81",
   "metadata": {
    "execution": {
     "iopub.execute_input": "2022-05-05T15:21:44.757087Z",
     "iopub.status.busy": "2022-05-05T15:21:44.756705Z",
     "iopub.status.idle": "2022-05-05T15:21:44.773165Z",
     "shell.execute_reply": "2022-05-05T15:21:44.772287Z"
    },
    "papermill": {
     "duration": 0.050236,
     "end_time": "2022-05-05T15:21:44.774986",
     "exception": false,
     "start_time": "2022-05-05T15:21:44.724750",
     "status": "completed"
    },
    "tags": []
   },
   "outputs": [
    {
     "data": {
      "application/javascript": [
       "parent.postMessage({\"jupyterEvent\": \"custom.exercise_interaction\", \"data\": {\"outcomeType\": 1, \"valueTowardsCompletion\": 0.3333333333333333, \"interactionType\": 1, \"questionType\": 1, \"questionId\": \"1_LoadData\", \"learnToolsVersion\": \"0.3.4\", \"failureMessage\": \"\", \"exceptionClass\": \"\", \"trace\": \"\"}}, \"*\")"
      ],
      "text/plain": [
       "<IPython.core.display.Javascript object>"
      ]
     },
     "metadata": {},
     "output_type": "display_data"
    },
    {
     "data": {
      "text/markdown": [
       "<span style=\"color:#33cc33\">Correct</span>"
      ],
      "text/plain": [
       "Correct"
      ]
     },
     "metadata": {},
     "output_type": "display_data"
    }
   ],
   "source": [
    "# Path of the file to read\n",
    "candy_filepath = \"../input/candy.csv\"\n",
    "\n",
    "# Fill in the line below to read the file into a variable candy_data\n",
    "candy_data = pd.read_csv(candy_filepath, index_col=\"id\")\n",
    "\n",
    "# Run the line below with no changes to check that you've loaded the data correctly\n",
    "step_1.check()"
   ]
  },
  {
   "cell_type": "code",
   "execution_count": 4,
   "id": "87c2744e",
   "metadata": {
    "execution": {
     "iopub.execute_input": "2022-05-05T15:21:44.833292Z",
     "iopub.status.busy": "2022-05-05T15:21:44.833027Z",
     "iopub.status.idle": "2022-05-05T15:21:44.836289Z",
     "shell.execute_reply": "2022-05-05T15:21:44.835443Z"
    },
    "papermill": {
     "duration": 0.035271,
     "end_time": "2022-05-05T15:21:44.838110",
     "exception": false,
     "start_time": "2022-05-05T15:21:44.802839",
     "status": "completed"
    },
    "tags": []
   },
   "outputs": [],
   "source": [
    "# Lines below will give you a hint or solution code\n",
    "#step_1.hint()\n",
    "#step_1.solution()"
   ]
  },
  {
   "cell_type": "markdown",
   "id": "269298fe",
   "metadata": {
    "papermill": {
     "duration": 0.025882,
     "end_time": "2022-05-05T15:21:44.890253",
     "exception": false,
     "start_time": "2022-05-05T15:21:44.864371",
     "status": "completed"
    },
    "tags": []
   },
   "source": [
    "## Step 2: Review the data\n",
    "\n",
    "Use a Python command to print the first five rows of the data."
   ]
  },
  {
   "cell_type": "code",
   "execution_count": 5,
   "id": "1f642aab",
   "metadata": {
    "execution": {
     "iopub.execute_input": "2022-05-05T15:21:44.945428Z",
     "iopub.status.busy": "2022-05-05T15:21:44.944856Z",
     "iopub.status.idle": "2022-05-05T15:21:44.964559Z",
     "shell.execute_reply": "2022-05-05T15:21:44.963722Z"
    },
    "papermill": {
     "duration": 0.049662,
     "end_time": "2022-05-05T15:21:44.966470",
     "exception": false,
     "start_time": "2022-05-05T15:21:44.916808",
     "status": "completed"
    },
    "tags": []
   },
   "outputs": [
    {
     "data": {
      "text/html": [
       "<div>\n",
       "<style scoped>\n",
       "    .dataframe tbody tr th:only-of-type {\n",
       "        vertical-align: middle;\n",
       "    }\n",
       "\n",
       "    .dataframe tbody tr th {\n",
       "        vertical-align: top;\n",
       "    }\n",
       "\n",
       "    .dataframe thead th {\n",
       "        text-align: right;\n",
       "    }\n",
       "</style>\n",
       "<table border=\"1\" class=\"dataframe\">\n",
       "  <thead>\n",
       "    <tr style=\"text-align: right;\">\n",
       "      <th></th>\n",
       "      <th>competitorname</th>\n",
       "      <th>chocolate</th>\n",
       "      <th>fruity</th>\n",
       "      <th>caramel</th>\n",
       "      <th>peanutyalmondy</th>\n",
       "      <th>nougat</th>\n",
       "      <th>crispedricewafer</th>\n",
       "      <th>hard</th>\n",
       "      <th>bar</th>\n",
       "      <th>pluribus</th>\n",
       "      <th>sugarpercent</th>\n",
       "      <th>pricepercent</th>\n",
       "      <th>winpercent</th>\n",
       "    </tr>\n",
       "    <tr>\n",
       "      <th>id</th>\n",
       "      <th></th>\n",
       "      <th></th>\n",
       "      <th></th>\n",
       "      <th></th>\n",
       "      <th></th>\n",
       "      <th></th>\n",
       "      <th></th>\n",
       "      <th></th>\n",
       "      <th></th>\n",
       "      <th></th>\n",
       "      <th></th>\n",
       "      <th></th>\n",
       "      <th></th>\n",
       "    </tr>\n",
       "  </thead>\n",
       "  <tbody>\n",
       "    <tr>\n",
       "      <th>0</th>\n",
       "      <td>100 Grand</td>\n",
       "      <td>Yes</td>\n",
       "      <td>No</td>\n",
       "      <td>Yes</td>\n",
       "      <td>No</td>\n",
       "      <td>No</td>\n",
       "      <td>Yes</td>\n",
       "      <td>No</td>\n",
       "      <td>Yes</td>\n",
       "      <td>No</td>\n",
       "      <td>0.732</td>\n",
       "      <td>0.860</td>\n",
       "      <td>66.971725</td>\n",
       "    </tr>\n",
       "    <tr>\n",
       "      <th>1</th>\n",
       "      <td>3 Musketeers</td>\n",
       "      <td>Yes</td>\n",
       "      <td>No</td>\n",
       "      <td>No</td>\n",
       "      <td>No</td>\n",
       "      <td>Yes</td>\n",
       "      <td>No</td>\n",
       "      <td>No</td>\n",
       "      <td>Yes</td>\n",
       "      <td>No</td>\n",
       "      <td>0.604</td>\n",
       "      <td>0.511</td>\n",
       "      <td>67.602936</td>\n",
       "    </tr>\n",
       "    <tr>\n",
       "      <th>2</th>\n",
       "      <td>Air Heads</td>\n",
       "      <td>No</td>\n",
       "      <td>Yes</td>\n",
       "      <td>No</td>\n",
       "      <td>No</td>\n",
       "      <td>No</td>\n",
       "      <td>No</td>\n",
       "      <td>No</td>\n",
       "      <td>No</td>\n",
       "      <td>No</td>\n",
       "      <td>0.906</td>\n",
       "      <td>0.511</td>\n",
       "      <td>52.341465</td>\n",
       "    </tr>\n",
       "    <tr>\n",
       "      <th>3</th>\n",
       "      <td>Almond Joy</td>\n",
       "      <td>Yes</td>\n",
       "      <td>No</td>\n",
       "      <td>No</td>\n",
       "      <td>Yes</td>\n",
       "      <td>No</td>\n",
       "      <td>No</td>\n",
       "      <td>No</td>\n",
       "      <td>Yes</td>\n",
       "      <td>No</td>\n",
       "      <td>0.465</td>\n",
       "      <td>0.767</td>\n",
       "      <td>50.347546</td>\n",
       "    </tr>\n",
       "    <tr>\n",
       "      <th>4</th>\n",
       "      <td>Baby Ruth</td>\n",
       "      <td>Yes</td>\n",
       "      <td>No</td>\n",
       "      <td>Yes</td>\n",
       "      <td>Yes</td>\n",
       "      <td>Yes</td>\n",
       "      <td>No</td>\n",
       "      <td>No</td>\n",
       "      <td>Yes</td>\n",
       "      <td>No</td>\n",
       "      <td>0.604</td>\n",
       "      <td>0.767</td>\n",
       "      <td>56.914547</td>\n",
       "    </tr>\n",
       "  </tbody>\n",
       "</table>\n",
       "</div>"
      ],
      "text/plain": [
       "   competitorname chocolate fruity caramel peanutyalmondy nougat  \\\n",
       "id                                                                 \n",
       "0       100 Grand       Yes     No     Yes             No     No   \n",
       "1    3 Musketeers       Yes     No      No             No    Yes   \n",
       "2       Air Heads        No    Yes      No             No     No   \n",
       "3      Almond Joy       Yes     No      No            Yes     No   \n",
       "4       Baby Ruth       Yes     No     Yes            Yes    Yes   \n",
       "\n",
       "   crispedricewafer hard  bar pluribus  sugarpercent  pricepercent  winpercent  \n",
       "id                                                                              \n",
       "0               Yes   No  Yes       No         0.732         0.860   66.971725  \n",
       "1                No   No  Yes       No         0.604         0.511   67.602936  \n",
       "2                No   No   No       No         0.906         0.511   52.341465  \n",
       "3                No   No  Yes       No         0.465         0.767   50.347546  \n",
       "4                No   No  Yes       No         0.604         0.767   56.914547  "
      ]
     },
     "execution_count": 5,
     "metadata": {},
     "output_type": "execute_result"
    }
   ],
   "source": [
    "# Print the first five rows of the data\n",
    "candy_data.head() # Your code here"
   ]
  },
  {
   "cell_type": "markdown",
   "id": "175996f1",
   "metadata": {
    "papermill": {
     "duration": 0.026983,
     "end_time": "2022-05-05T15:21:45.020309",
     "exception": false,
     "start_time": "2022-05-05T15:21:44.993326",
     "status": "completed"
    },
    "tags": []
   },
   "source": [
    "The dataset contains 83 rows, where each corresponds to a different candy bar.  There are 13 columns:\n",
    "- `'competitorname'` contains the name of the candy bar. \n",
    "- the next **9** columns (from `'chocolate'` to `'pluribus'`) describe the candy.  For instance, rows with chocolate candies have `\"Yes\"` in the `'chocolate'` column (and candies without chocolate have `\"No\"` in the same column).\n",
    "- `'sugarpercent'` provides some indication of the amount of sugar, where higher values signify higher sugar content.\n",
    "- `'pricepercent'` shows the price per unit, relative to the other candies in the dataset.\n",
    "- `'winpercent'` is calculated from the survey results; higher values indicate that the candy was more popular with survey respondents.\n",
    "\n",
    "Use the first five rows of the data to answer the questions below."
   ]
  },
  {
   "cell_type": "code",
   "execution_count": 6,
   "id": "38c62da7",
   "metadata": {
    "execution": {
     "iopub.execute_input": "2022-05-05T15:21:45.075966Z",
     "iopub.status.busy": "2022-05-05T15:21:45.075442Z",
     "iopub.status.idle": "2022-05-05T15:21:45.083561Z",
     "shell.execute_reply": "2022-05-05T15:21:45.082933Z"
    },
    "papermill": {
     "duration": 0.037877,
     "end_time": "2022-05-05T15:21:45.085333",
     "exception": false,
     "start_time": "2022-05-05T15:21:45.047456",
     "status": "completed"
    },
    "tags": []
   },
   "outputs": [
    {
     "data": {
      "application/javascript": [
       "parent.postMessage({\"jupyterEvent\": \"custom.exercise_interaction\", \"data\": {\"outcomeType\": 1, \"valueTowardsCompletion\": 0.3333333333333333, \"interactionType\": 1, \"questionType\": 1, \"questionId\": \"2_ReviewData\", \"learnToolsVersion\": \"0.3.4\", \"failureMessage\": \"\", \"exceptionClass\": \"\", \"trace\": \"\"}}, \"*\")"
      ],
      "text/plain": [
       "<IPython.core.display.Javascript object>"
      ]
     },
     "metadata": {},
     "output_type": "display_data"
    },
    {
     "data": {
      "text/markdown": [
       "<span style=\"color:#33cc33\">Correct</span>"
      ],
      "text/plain": [
       "Correct"
      ]
     },
     "metadata": {},
     "output_type": "display_data"
    }
   ],
   "source": [
    "# Fill in the line below: Which candy was more popular with survey respondents:\n",
    "# '3 Musketeers' or 'Almond Joy'?  (Please enclose your answer in single quotes.)\n",
    "more_popular = '3 Musketeers'\n",
    "\n",
    "\n",
    "# Fill in the line below: Which candy has higher sugar content: 'Air Heads'\n",
    "# or 'Baby Ruth'? (Please enclose your answer in single quotes.)\n",
    "more_sugar = 'Air Heads'\n",
    "\n",
    "# Check your answers\n",
    "step_2.check()"
   ]
  },
  {
   "cell_type": "code",
   "execution_count": 7,
   "id": "11c00ec3",
   "metadata": {
    "execution": {
     "iopub.execute_input": "2022-05-05T15:21:45.143633Z",
     "iopub.status.busy": "2022-05-05T15:21:45.143082Z",
     "iopub.status.idle": "2022-05-05T15:21:45.146851Z",
     "shell.execute_reply": "2022-05-05T15:21:45.146288Z"
    },
    "papermill": {
     "duration": 0.035936,
     "end_time": "2022-05-05T15:21:45.148746",
     "exception": false,
     "start_time": "2022-05-05T15:21:45.112810",
     "status": "completed"
    },
    "tags": []
   },
   "outputs": [],
   "source": [
    "# Lines below will give you a hint or solution code\n",
    "#step_2.hint()\n",
    "#step_2.solution()"
   ]
  },
  {
   "cell_type": "markdown",
   "id": "db3fb8e5",
   "metadata": {
    "papermill": {
     "duration": 0.027796,
     "end_time": "2022-05-05T15:21:45.204402",
     "exception": false,
     "start_time": "2022-05-05T15:21:45.176606",
     "status": "completed"
    },
    "tags": []
   },
   "source": [
    "## Step 3: The role of sugar\n",
    "\n",
    "Do people tend to prefer candies with higher sugar content?  \n",
    "\n",
    "#### Part A\n",
    "\n",
    "Create a scatter plot that shows the relationship between `'sugarpercent'` (on the horizontal x-axis) and `'winpercent'` (on the vertical y-axis).  _Don't add a regression line just yet -- you'll do that in the next step!_"
   ]
  },
  {
   "cell_type": "code",
   "execution_count": 8,
   "id": "7ee8d2ce",
   "metadata": {
    "execution": {
     "iopub.execute_input": "2022-05-05T15:21:45.261466Z",
     "iopub.status.busy": "2022-05-05T15:21:45.260895Z",
     "iopub.status.idle": "2022-05-05T15:21:45.497555Z",
     "shell.execute_reply": "2022-05-05T15:21:45.495899Z"
    },
    "papermill": {
     "duration": 0.2676,
     "end_time": "2022-05-05T15:21:45.499571",
     "exception": false,
     "start_time": "2022-05-05T15:21:45.231971",
     "status": "completed"
    },
    "tags": []
   },
   "outputs": [
    {
     "data": {
      "application/javascript": [
       "parent.postMessage({\"jupyterEvent\": \"custom.exercise_interaction\", \"data\": {\"outcomeType\": 1, \"valueTowardsCompletion\": 0.3333333333333333, \"interactionType\": 1, \"questionType\": 2, \"questionId\": \"3.1_PlotBlueScatter\", \"learnToolsVersion\": \"0.3.4\", \"failureMessage\": \"\", \"exceptionClass\": \"\", \"trace\": \"\"}}, \"*\")"
      ],
      "text/plain": [
       "<IPython.core.display.Javascript object>"
      ]
     },
     "metadata": {},
     "output_type": "display_data"
    },
    {
     "data": {
      "text/markdown": [
       "<span style=\"color:#33cc33\">Correct</span>"
      ],
      "text/plain": [
       "Correct"
      ]
     },
     "metadata": {},
     "output_type": "display_data"
    },
    {
     "data": {
      "image/png": "[encoded data removed]",
      "text/plain": [
       "<Figure size 432x288 with 1 Axes>"
      ]
     },
     "metadata": {
      "needs_background": "light"
     },
     "output_type": "display_data"
    }
   ],
   "source": [
    "# Scatter plot showing the relationship between 'sugarpercent' and 'winpercent'\n",
    "\n",
    "\n",
    "\n",
    "sns.scatterplot(x=candy_data['sugarpercent'], y=candy_data['winpercent']) # Your code here\n",
    "\n",
    "# Check your answer\n",
    "step_3.a.check()"
   ]
  },
  {
   "cell_type": "code",
   "execution_count": 9,
   "id": "bbb9f908",
   "metadata": {
    "execution": {
     "iopub.execute_input": "2022-05-05T15:21:45.560104Z",
     "iopub.status.busy": "2022-05-05T15:21:45.559533Z",
     "iopub.status.idle": "2022-05-05T15:21:45.563038Z",
     "shell.execute_reply": "2022-05-05T15:21:45.562509Z"
    },
    "papermill": {
     "duration": 0.035758,
     "end_time": "2022-05-05T15:21:45.564812",
     "exception": false,
     "start_time": "2022-05-05T15:21:45.529054",
     "status": "completed"
    },
    "tags": []
   },
   "outputs": [],
   "source": [
    "# Lines below will give you a hint or solution code\n",
    "#step_3.a.hint()\n",
    "#step_3.a.solution_plot()"
   ]
  },
  {
   "cell_type": "markdown",
   "id": "182a373c",
   "metadata": {
    "papermill": {
     "duration": 0.029015,
     "end_time": "2022-05-05T15:21:45.622710",
     "exception": false,
     "start_time": "2022-05-05T15:21:45.593695",
     "status": "completed"
    },
    "tags": []
   },
   "source": [
    "#### Part B\n",
    "\n",
    "Does the scatter plot show a **strong** correlation between the two variables?  If so, are candies with more sugar relatively more or less popular with the survey respondents?"
   ]
  },
  {
   "cell_type": "code",
   "execution_count": 10,
   "id": "bfc247e9",
   "metadata": {
    "execution": {
     "iopub.execute_input": "2022-05-05T15:21:45.682725Z",
     "iopub.status.busy": "2022-05-05T15:21:45.682194Z",
     "iopub.status.idle": "2022-05-05T15:21:45.686325Z",
     "shell.execute_reply": "2022-05-05T15:21:45.685654Z"
    },
    "papermill": {
     "duration": 0.036486,
     "end_time": "2022-05-05T15:21:45.688156",
     "exception": false,
     "start_time": "2022-05-05T15:21:45.651670",
     "status": "completed"
    },
    "tags": []
   },
   "outputs": [],
   "source": [
    "#step_3.b.hint()"
   ]
  },
  {
   "cell_type": "code",
   "execution_count": 11,
   "id": "a1d5c876",
   "metadata": {
    "execution": {
     "iopub.execute_input": "2022-05-05T15:21:45.748168Z",
     "iopub.status.busy": "2022-05-05T15:21:45.747872Z",
     "iopub.status.idle": "2022-05-05T15:21:45.754923Z",
     "shell.execute_reply": "2022-05-05T15:21:45.754338Z"
    },
    "papermill": {
     "duration": 0.039103,
     "end_time": "2022-05-05T15:21:45.756784",
     "exception": false,
     "start_time": "2022-05-05T15:21:45.717681",
     "status": "completed"
    },
    "tags": []
   },
   "outputs": [
    {
     "data": {
      "application/javascript": [
       "parent.postMessage({\"jupyterEvent\": \"custom.exercise_interaction\", \"data\": {\"interactionType\": 3, \"questionType\": 4, \"questionId\": \"3.2_ThinkBlueScatter\", \"learnToolsVersion\": \"0.3.4\", \"valueTowardsCompletion\": 0.0, \"failureMessage\": \"\", \"exceptionClass\": \"\", \"trace\": \"\", \"outcomeType\": 4}}, \"*\")"
      ],
      "text/plain": [
       "<IPython.core.display.Javascript object>"
      ]
     },
     "metadata": {},
     "output_type": "display_data"
    },
    {
     "data": {
      "text/markdown": [
       "<span style=\"color:#33cc99\">Solution:</span> The scatter plot does not show a strong correlation between the two variables. Since there is no clear relationship between the two variables, this tells us that sugar content does not play a strong role in candy popularity."
      ],
      "text/plain": [
       "Solution: The scatter plot does not show a strong correlation between the two variables. Since there is no clear relationship between the two variables, this tells us that sugar content does not play a strong role in candy popularity."
      ]
     },
     "metadata": {},
     "output_type": "display_data"
    }
   ],
   "source": [
    "# Check your answer (Run this code cell to receive credit!)\n",
    "step_3.b.solution()"
   ]
  },
  {
   "cell_type": "markdown",
   "id": "1f3ae38a",
   "metadata": {
    "papermill": {
     "duration": 0.035891,
     "end_time": "2022-05-05T15:21:45.824467",
     "exception": false,
     "start_time": "2022-05-05T15:21:45.788576",
     "status": "completed"
    },
    "tags": []
   },
   "source": [
    "## Step 4: Take a closer look\n",
    "\n",
    "#### Part A\n",
    "\n",
    "Create the same scatter plot you created in **Step 3**, but now with a regression line!"
   ]
  },
  {
   "cell_type": "code",
   "execution_count": 12,
   "id": "e03e1307",
   "metadata": {
    "execution": {
     "iopub.execute_input": "2022-05-05T15:21:45.907438Z",
     "iopub.status.busy": "2022-05-05T15:21:45.906589Z",
     "iopub.status.idle": "2022-05-05T15:21:46.196593Z",
     "shell.execute_reply": "2022-05-05T15:21:46.195777Z"
    },
    "papermill": {
     "duration": 0.332861,
     "end_time": "2022-05-05T15:21:46.198564",
     "exception": false,
     "start_time": "2022-05-05T15:21:45.865703",
     "status": "completed"
    },
    "tags": []
   },
   "outputs": [
    {
     "data": {
      "application/javascript": [
       "parent.postMessage({\"jupyterEvent\": \"custom.exercise_interaction\", \"data\": {\"outcomeType\": 1, \"valueTowardsCompletion\": 0.3333333333333333, \"interactionType\": 1, \"questionType\": 2, \"questionId\": \"4.1_PlotBlueReg\", \"learnToolsVersion\": \"0.3.4\", \"failureMessage\": \"\", \"exceptionClass\": \"\", \"trace\": \"\"}}, \"*\")"
      ],
      "text/plain": [
       "<IPython.core.display.Javascript object>"
      ]
     },
     "metadata": {},
     "output_type": "display_data"
    },
    {
     "data": {
      "text/markdown": [
       "<span style=\"color:#33cc33\">Correct</span>"
      ],
      "text/plain": [
       "Correct"
      ]
     },
     "metadata": {},
     "output_type": "display_data"
    },
    {
     "data": {
      "image/png": "[encoded data removed]",
      "text/plain": [
       "<Figure size 432x288 with 1 Axes>"
      ]
     },
     "metadata": {
      "needs_background": "light"
     },
     "output_type": "display_data"
    }
   ],
   "source": [
    "# Scatter plot w/ regression line showing the relationship between 'sugarpercent' and 'winpercent'\n",
    "sns.regplot(x=candy_data['sugarpercent'], y=candy_data['winpercent']) # Your code here\n",
    "\n",
    "# Check your answer\n",
    "step_4.a.check()"
   ]
  },
  {
   "cell_type": "code",
   "execution_count": 13,
   "id": "1a2c86d3",
   "metadata": {
    "execution": {
     "iopub.execute_input": "2022-05-05T15:21:46.264690Z",
     "iopub.status.busy": "2022-05-05T15:21:46.264140Z",
     "iopub.status.idle": "2022-05-05T15:21:46.267706Z",
     "shell.execute_reply": "2022-05-05T15:21:46.267117Z"
    },
    "papermill": {
     "duration": 0.038624,
     "end_time": "2022-05-05T15:21:46.269482",
     "exception": false,
     "start_time": "2022-05-05T15:21:46.230858",
     "status": "completed"
    },
    "tags": []
   },
   "outputs": [],
   "source": [
    "# Lines below will give you a hint or solution code\n",
    "#step_4.a.hint()\n",
    "#step_4.a.solution_plot()"
   ]
  },
  {
   "cell_type": "markdown",
   "id": "4361a9c5",
   "metadata": {
    "papermill": {
     "duration": 0.031599,
     "end_time": "2022-05-05T15:21:46.332917",
     "exception": false,
     "start_time": "2022-05-05T15:21:46.301318",
     "status": "completed"
    },
    "tags": []
   },
   "source": [
    "#### Part B\n",
    "\n",
    "According to the plot above, is there a **slight** correlation between `'winpercent'` and `'sugarpercent'`?  What does this tell you about the candy that people tend to prefer?"
   ]
  },
  {
   "cell_type": "code",
   "execution_count": 14,
   "id": "130f6e52",
   "metadata": {
    "execution": {
     "iopub.execute_input": "2022-05-05T15:21:46.397933Z",
     "iopub.status.busy": "2022-05-05T15:21:46.397635Z",
     "iopub.status.idle": "2022-05-05T15:21:46.401076Z",
     "shell.execute_reply": "2022-05-05T15:21:46.400256Z"
    },
    "papermill": {
     "duration": 0.038349,
     "end_time": "2022-05-05T15:21:46.402960",
     "exception": false,
     "start_time": "2022-05-05T15:21:46.364611",
     "status": "completed"
    },
    "tags": []
   },
   "outputs": [],
   "source": [
    "#step_4.b.hint()"
   ]
  },
  {
   "cell_type": "code",
   "execution_count": 15,
   "id": "83f5cee6",
   "metadata": {
    "execution": {
     "iopub.execute_input": "2022-05-05T15:21:46.469219Z",
     "iopub.status.busy": "2022-05-05T15:21:46.468536Z",
     "iopub.status.idle": "2022-05-05T15:21:46.476264Z",
     "shell.execute_reply": "2022-05-05T15:21:46.475576Z"
    },
    "papermill": {
     "duration": 0.043359,
     "end_time": "2022-05-05T15:21:46.478171",
     "exception": false,
     "start_time": "2022-05-05T15:21:46.434812",
     "status": "completed"
    },
    "tags": []
   },
   "outputs": [
    {
     "data": {
      "application/javascript": [
       "parent.postMessage({\"jupyterEvent\": \"custom.exercise_interaction\", \"data\": {\"interactionType\": 3, \"questionType\": 4, \"questionId\": \"4.2_ThinkBlueReg\", \"learnToolsVersion\": \"0.3.4\", \"valueTowardsCompletion\": 0.0, \"failureMessage\": \"\", \"exceptionClass\": \"\", \"trace\": \"\", \"outcomeType\": 4}}, \"*\")"
      ],
      "text/plain": [
       "<IPython.core.display.Javascript object>"
      ]
     },
     "metadata": {},
     "output_type": "display_data"
    },
    {
     "data": {
      "text/markdown": [
       "<span style=\"color:#33cc99\">Solution:</span> Since the regression line has a slightly positive slope, this tells us that there is a slightly positive correlation between `'winpercent'` and `'sugarpercent'`. Thus, people have a slight preference for candies containing relatively more sugar."
      ],
      "text/plain": [
       "Solution: Since the regression line has a slightly positive slope, this tells us that there is a slightly positive correlation between `'winpercent'` and `'sugarpercent'`. Thus, people have a slight preference for candies containing relatively more sugar."
      ]
     },
     "metadata": {},
     "output_type": "display_data"
    }
   ],
   "source": [
    "# Check your answer (Run this code cell to receive credit!)\n",
    "step_4.b.solution()"
   ]
  },
  {
   "cell_type": "markdown",
   "id": "54bc027e",
   "metadata": {
    "papermill": {
     "duration": 0.032901,
     "end_time": "2022-05-05T15:21:46.544196",
     "exception": false,
     "start_time": "2022-05-05T15:21:46.511295",
     "status": "completed"
    },
    "tags": []
   },
   "source": [
    "## Step 5: Chocolate!\n",
    "\n",
    "In the code cell below, create a scatter plot to show the relationship between `'pricepercent'` (on the horizontal x-axis) and `'winpercent'` (on the vertical y-axis). Use the `'chocolate'` column to color-code the points.  _Don't add any regression lines just yet -- you'll do that in the next step!_"
   ]
  },
  {
   "cell_type": "code",
   "execution_count": 16,
   "id": "9ed0bf8e",
   "metadata": {
    "execution": {
     "iopub.execute_input": "2022-05-05T15:21:46.612877Z",
     "iopub.status.busy": "2022-05-05T15:21:46.612331Z",
     "iopub.status.idle": "2022-05-05T15:21:46.849106Z",
     "shell.execute_reply": "2022-05-05T15:21:46.848449Z"
    },
    "papermill": {
     "duration": 0.273212,
     "end_time": "2022-05-05T15:21:46.851089",
     "exception": false,
     "start_time": "2022-05-05T15:21:46.577877",
     "status": "completed"
    },
    "tags": []
   },
   "outputs": [
    {
     "data": {
      "application/javascript": [
       "parent.postMessage({\"jupyterEvent\": \"custom.exercise_interaction\", \"data\": {\"outcomeType\": 1, \"valueTowardsCompletion\": 0.3333333333333333, \"interactionType\": 1, \"questionType\": 2, \"questionId\": \"5_ColorScatter\", \"learnToolsVersion\": \"0.3.4\", \"failureMessage\": \"\", \"exceptionClass\": \"\", \"trace\": \"\"}}, \"*\")"
      ],
      "text/plain": [
       "<IPython.core.display.Javascript object>"
      ]
     },
     "metadata": {},
     "output_type": "display_data"
    },
    {
     "data": {
      "text/markdown": [
       "<span style=\"color:#33cc33\">Correct</span>"
      ],
      "text/plain": [
       "Correct"
      ]
     },
     "metadata": {},
     "output_type": "display_data"
    },
    {
     "data": {
      "image/png": "[encoded data removed]",
      "text/plain": [
       "<Figure size 432x288 with 1 Axes>"
      ]
     },
     "metadata": {
      "needs_background": "light"
     },
     "output_type": "display_data"
    }
   ],
   "source": [
    "# Scatter plot showing the relationship between 'pricepercent', 'winpercent', and 'chocolate'\n",
    "sns.scatterplot(x=candy_data['pricepercent'], y=candy_data['winpercent'], hue=candy_data['chocolate'])# Your code here\n",
    "\n",
    "# Check your answer\n",
    "step_5.check()"
   ]
  },
  {
   "cell_type": "code",
   "execution_count": 17,
   "id": "ff5f2ac6",
   "metadata": {
    "execution": {
     "iopub.execute_input": "2022-05-05T15:21:46.924640Z",
     "iopub.status.busy": "2022-05-05T15:21:46.923632Z",
     "iopub.status.idle": "2022-05-05T15:21:46.927824Z",
     "shell.execute_reply": "2022-05-05T15:21:46.927202Z"
    },
    "papermill": {
     "duration": 0.043172,
     "end_time": "2022-05-05T15:21:46.929779",
     "exception": false,
     "start_time": "2022-05-05T15:21:46.886607",
     "status": "completed"
    },
    "tags": []
   },
   "outputs": [],
   "source": [
    "# Lines below will give you a hint or solution code\n",
    "#step_5.hint()\n",
    "#step_5.solution_plot()"
   ]
  },
  {
   "cell_type": "markdown",
   "id": "388969f2",
   "metadata": {
    "papermill": {
     "duration": 0.035608,
     "end_time": "2022-05-05T15:21:47.000983",
     "exception": false,
     "start_time": "2022-05-05T15:21:46.965375",
     "status": "completed"
    },
    "tags": []
   },
   "source": [
    "Can you see any interesting patterns in the scatter plot?  We'll investigate this plot further  by adding regression lines in the next step!\n",
    "\n",
    "## Step 6: Investigate chocolate\n",
    "\n",
    "#### Part A\n",
    "\n",
    "Create the same scatter plot you created in **Step 5**, but now with two regression lines, corresponding to (1) chocolate candies and (2) candies without chocolate."
   ]
  },
  {
   "cell_type": "code",
   "execution_count": 18,
   "id": "59f29791",
   "metadata": {
    "execution": {
     "iopub.execute_input": "2022-05-05T15:21:47.073737Z",
     "iopub.status.busy": "2022-05-05T15:21:47.073200Z",
     "iopub.status.idle": "2022-05-05T15:21:47.665832Z",
     "shell.execute_reply": "2022-05-05T15:21:47.665173Z"
    },
    "papermill": {
     "duration": 0.631653,
     "end_time": "2022-05-05T15:21:47.667749",
     "exception": false,
     "start_time": "2022-05-05T15:21:47.036096",
     "status": "completed"
    },
    "tags": []
   },
   "outputs": [
    {
     "data": {
      "application/javascript": [
       "parent.postMessage({\"jupyterEvent\": \"custom.exercise_interaction\", \"data\": {\"outcomeType\": 1, \"valueTowardsCompletion\": 0.3333333333333333, \"interactionType\": 1, \"questionType\": 2, \"questionId\": \"6.1_PlotColorReg\", \"learnToolsVersion\": \"0.3.4\", \"failureMessage\": \"\", \"exceptionClass\": \"\", \"trace\": \"\"}}, \"*\")"
      ],
      "text/plain": [
       "<IPython.core.display.Javascript object>"
      ]
     },
     "metadata": {},
     "output_type": "display_data"
    },
    {
     "data": {
      "text/markdown": [
       "<span style=\"color:#33cc33\">Correct</span>"
      ],
      "text/plain": [
       "Correct"
      ]
     },
     "metadata": {},
     "output_type": "display_data"
    },
    {
     "data": {
      "image/png": "[encoded data removed]",
      "text/plain": [
       "<Figure size 416.375x360 with 1 Axes>"
      ]
     },
     "metadata": {
      "needs_background": "light"
     },
     "output_type": "display_data"
    }
   ],
   "source": [
    "# Color-coded scatter plot w/ regression lines\n",
    "sns.lmplot(x=\"pricepercent\", y=\"winpercent\", hue=\"chocolate\", data=candy_data) # Your code here\n",
    "\n",
    "# Check your answer\n",
    "step_6.a.check()"
   ]
  },
  {
   "cell_type": "code",
   "execution_count": 19,
   "id": "2acb70dc",
   "metadata": {
    "execution": {
     "iopub.execute_input": "2022-05-05T15:21:47.743262Z",
     "iopub.status.busy": "2022-05-05T15:21:47.742841Z",
     "iopub.status.idle": "2022-05-05T15:21:47.746308Z",
     "shell.execute_reply": "2022-05-05T15:21:47.745585Z"
    },
    "papermill": {
     "duration": 0.043524,
     "end_time": "2022-05-05T15:21:47.748039",
     "exception": false,
     "start_time": "2022-05-05T15:21:47.704515",
     "status": "completed"
    },
    "tags": []
   },
   "outputs": [],
   "source": [
    "# Lines below will give you a hint or solution code\n",
    "#step_6.a.hint()\n",
    "#step_6.a.solution_plot()"
   ]
  },
  {
   "cell_type": "markdown",
   "id": "2f1196e4",
   "metadata": {
    "papermill": {
     "duration": 0.036893,
     "end_time": "2022-05-05T15:21:47.822503",
     "exception": false,
     "start_time": "2022-05-05T15:21:47.785610",
     "status": "completed"
    },
    "tags": []
   },
   "source": [
    "#### Part B\n",
    "\n",
    "Using the regression lines, what conclusions can you draw about the effects of chocolate and price on candy popularity?"
   ]
  },
  {
   "cell_type": "code",
   "execution_count": 20,
   "id": "b522d9bb",
   "metadata": {
    "execution": {
     "iopub.execute_input": "2022-05-05T15:21:47.901158Z",
     "iopub.status.busy": "2022-05-05T15:21:47.900653Z",
     "iopub.status.idle": "2022-05-05T15:21:47.904618Z",
     "shell.execute_reply": "2022-05-05T15:21:47.903754Z"
    },
    "papermill": {
     "duration": 0.045815,
     "end_time": "2022-05-05T15:21:47.906642",
     "exception": false,
     "start_time": "2022-05-05T15:21:47.860827",
     "status": "completed"
    },
    "tags": []
   },
   "outputs": [],
   "source": [
    "#step_6.b.hint()"
   ]
  },
  {
   "cell_type": "code",
   "execution_count": 21,
   "id": "1ae93ec0",
   "metadata": {
    "execution": {
     "iopub.execute_input": "2022-05-05T15:21:47.984785Z",
     "iopub.status.busy": "2022-05-05T15:21:47.984359Z",
     "iopub.status.idle": "2022-05-05T15:21:47.992189Z",
     "shell.execute_reply": "2022-05-05T15:21:47.991250Z"
    },
    "papermill": {
     "duration": 0.050105,
     "end_time": "2022-05-05T15:21:47.994081",
     "exception": false,
     "start_time": "2022-05-05T15:21:47.943976",
     "status": "completed"
    },
    "tags": []
   },
   "outputs": [
    {
     "data": {
      "application/javascript": [
       "parent.postMessage({\"jupyterEvent\": \"custom.exercise_interaction\", \"data\": {\"interactionType\": 3, \"questionType\": 4, \"questionId\": \"6.2_ThinkColorReg\", \"learnToolsVersion\": \"0.3.4\", \"valueTowardsCompletion\": 0.0, \"failureMessage\": \"\", \"exceptionClass\": \"\", \"trace\": \"\", \"outcomeType\": 4}}, \"*\")"
      ],
      "text/plain": [
       "<IPython.core.display.Javascript object>"
      ]
     },
     "metadata": {},
     "output_type": "display_data"
    },
    {
     "data": {
      "text/markdown": [
       "<span style=\"color:#33cc99\">Solution:</span> We'll begin with the regression line for chocolate candies. Since this line has a slightly positive slope, we can say that more expensive chocolate candies tend to be more popular (than relatively cheaper chocolate candies).  Likewise, since the regression line for candies without chocolate has a negative slope, we can say that if candies don't contain chocolate, they tend to be more popular when they are cheaper.  One important note, however, is that the dataset is quite small -- so we shouldn't invest too much trust in these patterns!  To inspire more confidence in the results, we should add more candies to the dataset."
      ],
      "text/plain": [
       "Solution: We'll begin with the regression line for chocolate candies. Since this line has a slightly positive slope, we can say that more expensive chocolate candies tend to be more popular (than relatively cheaper chocolate candies).  Likewise, since the regression line for candies without chocolate has a negative slope, we can say that if candies don't contain chocolate, they tend to be more popular when they are cheaper.  One important note, however, is that the dataset is quite small -- so we shouldn't invest too much trust in these patterns!  To inspire more confidence in the results, we should add more candies to the dataset."
      ]
     },
     "metadata": {},
     "output_type": "display_data"
    }
   ],
   "source": [
    "# Check your answer (Run this code cell to receive credit!)\n",
    "step_6.b.solution()"
   ]
  },
  {
   "cell_type": "markdown",
   "id": "3e911683",
   "metadata": {
    "papermill": {
     "duration": 0.039342,
     "end_time": "2022-05-05T15:21:48.072676",
     "exception": false,
     "start_time": "2022-05-05T15:21:48.033334",
     "status": "completed"
    },
    "tags": []
   },
   "source": [
    "## Step 7: Everybody loves chocolate.\n",
    "\n",
    "#### Part A\n",
    "\n",
    "Create a categorical scatter plot to highlight the relationship between `'chocolate'` and `'winpercent'`.  Put `'chocolate'` on the (horizontal) x-axis, and `'winpercent'` on the (vertical) y-axis."
   ]
  },
  {
   "cell_type": "code",
   "execution_count": 22,
   "id": "cd3e66c9",
   "metadata": {
    "execution": {
     "iopub.execute_input": "2022-05-05T15:21:48.152697Z",
     "iopub.status.busy": "2022-05-05T15:21:48.152406Z",
     "iopub.status.idle": "2022-05-05T15:21:48.350586Z",
     "shell.execute_reply": "2022-05-05T15:21:48.349859Z"
    },
    "papermill": {
     "duration": 0.240107,
     "end_time": "2022-05-05T15:21:48.352520",
     "exception": false,
     "start_time": "2022-05-05T15:21:48.112413",
     "status": "completed"
    },
    "tags": []
   },
   "outputs": [
    {
     "data": {
      "application/javascript": [
       "parent.postMessage({\"jupyterEvent\": \"custom.exercise_interaction\", \"data\": {\"outcomeType\": 1, \"valueTowardsCompletion\": 0.3333333333333333, \"interactionType\": 1, \"questionType\": 2, \"questionId\": \"7.1_PlotSwarm\", \"learnToolsVersion\": \"0.3.4\", \"failureMessage\": \"\", \"exceptionClass\": \"\", \"trace\": \"\"}}, \"*\")"
      ],
      "text/plain": [
       "<IPython.core.display.Javascript object>"
      ]
     },
     "metadata": {},
     "output_type": "display_data"
    },
    {
     "data": {
      "text/markdown": [
       "<span style=\"color:#33cc33\">Correct</span>"
      ],
      "text/plain": [
       "Correct"
      ]
     },
     "metadata": {},
     "output_type": "display_data"
    },
    {
     "data": {
      "image/png": "[encoded data removed]",
      "text/plain": [
       "<Figure size 432x288 with 1 Axes>"
      ]
     },
     "metadata": {
      "needs_background": "light"
     },
     "output_type": "display_data"
    }
   ],
   "source": [
    "# Scatter plot showing the relationship between 'chocolate' and 'winpercent'\n",
    "sns.swarmplot(x=candy_data['chocolate'], y=candy_data['winpercent']) # Your code here\n",
    "\n",
    "# Check your answer\n",
    "step_7.a.check()"
   ]
  },
  {
   "cell_type": "code",
   "execution_count": 23,
   "id": "82b31ebb",
   "metadata": {
    "execution": {
     "iopub.execute_input": "2022-05-05T15:21:48.436340Z",
     "iopub.status.busy": "2022-05-05T15:21:48.435494Z",
     "iopub.status.idle": "2022-05-05T15:21:48.438906Z",
     "shell.execute_reply": "2022-05-05T15:21:48.438406Z"
    },
    "papermill": {
     "duration": 0.047232,
     "end_time": "2022-05-05T15:21:48.440827",
     "exception": false,
     "start_time": "2022-05-05T15:21:48.393595",
     "status": "completed"
    },
    "tags": []
   },
   "outputs": [],
   "source": [
    "# Lines below will give you a hint or solution code\n",
    "#step_7.a.hint()\n",
    "#step_7.a.solution_plot()"
   ]
  },
  {
   "cell_type": "markdown",
   "id": "a486e383",
   "metadata": {
    "papermill": {
     "duration": 0.039996,
     "end_time": "2022-05-05T15:21:48.523824",
     "exception": false,
     "start_time": "2022-05-05T15:21:48.483828",
     "status": "completed"
    },
    "tags": []
   },
   "source": [
    "#### Part B\n",
    "\n",
    "You decide to dedicate a section of your report to the fact that chocolate candies tend to be more popular than candies without chocolate.  Which plot is more appropriate to tell this story: the plot from **Step 6**, or the plot from **Step 7**?"
   ]
  },
  {
   "cell_type": "code",
   "execution_count": 24,
   "id": "d84b9922",
   "metadata": {
    "execution": {
     "iopub.execute_input": "2022-05-05T15:21:48.607547Z",
     "iopub.status.busy": "2022-05-05T15:21:48.607031Z",
     "iopub.status.idle": "2022-05-05T15:21:48.609937Z",
     "shell.execute_reply": "2022-05-05T15:21:48.609421Z"
    },
    "papermill": {
     "duration": 0.046114,
     "end_time": "2022-05-05T15:21:48.611735",
     "exception": false,
     "start_time": "2022-05-05T15:21:48.565621",
     "status": "completed"
    },
    "tags": []
   },
   "outputs": [],
   "source": [
    "#step_7.b.hint()"
   ]
  },
  {
   "cell_type": "code",
   "execution_count": 25,
   "id": "5e2fab4e",
   "metadata": {
    "execution": {
     "iopub.execute_input": "2022-05-05T15:21:48.695243Z",
     "iopub.status.busy": "2022-05-05T15:21:48.694687Z",
     "iopub.status.idle": "2022-05-05T15:21:48.700660Z",
     "shell.execute_reply": "2022-05-05T15:21:48.700071Z"
    },
    "papermill": {
     "duration": 0.050116,
     "end_time": "2022-05-05T15:21:48.702386",
     "exception": false,
     "start_time": "2022-05-05T15:21:48.652270",
     "status": "completed"
    },
    "tags": []
   },
   "outputs": [
    {
     "data": {
      "application/javascript": [
       "parent.postMessage({\"jupyterEvent\": \"custom.exercise_interaction\", \"data\": {\"interactionType\": 3, \"questionType\": 4, \"questionId\": \"7.2_ThinkSwarm\", \"learnToolsVersion\": \"0.3.4\", \"valueTowardsCompletion\": 0.0, \"failureMessage\": \"\", \"exceptionClass\": \"\", \"trace\": \"\", \"outcomeType\": 4}}, \"*\")"
      ],
      "text/plain": [
       "<IPython.core.display.Javascript object>"
      ]
     },
     "metadata": {},
     "output_type": "display_data"
    },
    {
     "data": {
      "text/markdown": [
       "<span style=\"color:#33cc99\">Solution:</span> In this case, the categorical scatter plot from **Step 7** is the more appropriate plot. While both plots tell the desired story, the plot from **Step 6** conveys far more information that could distract from the main point."
      ],
      "text/plain": [
       "Solution: In this case, the categorical scatter plot from **Step 7** is the more appropriate plot. While both plots tell the desired story, the plot from **Step 6** conveys far more information that could distract from the main point."
      ]
     },
     "metadata": {},
     "output_type": "display_data"
    }
   ],
   "source": [
    "# Check your answer (Run this code cell to receive credit!)\n",
    "step_7.b.solution()"
   ]
  },
  {
   "cell_type": "markdown",
   "id": "3bba1724",
   "metadata": {
    "papermill": {
     "duration": 0.041702,
     "end_time": "2022-05-05T15:21:48.786769",
     "exception": false,
     "start_time": "2022-05-05T15:21:48.745067",
     "status": "completed"
    },
    "tags": []
   },
   "source": [
    "## Keep going\n",
    "\n",
    "Explore **[histograms and density plots](https://www.kaggle.com/alexisbcook/distributions)**."
   ]
  },
  {
   "cell_type": "markdown",
   "id": "92e0909b",
   "metadata": {
    "papermill": {
     "duration": 0.04103,
     "end_time": "2022-05-05T15:21:48.869824",
     "exception": false,
     "start_time": "2022-05-05T15:21:48.828794",
     "status": "completed"
    },
    "tags": []
   },
   "source": [
    "---\n",
    "\n",
    "\n",
    "\n",
    "\n",
    "*Have questions or comments? Visit the [course discussion forum](https://www.kaggle.com/learn/data-visualization/discussion) to chat with other learners.*"
   ]
  }
 ],
 "metadata": {
  "kernelspec": {
   "display_name": "Python 3",
   "language": "python",
   "name": "python3"
  },
  "language_info": {
   "codemirror_mode": {
    "name": "ipython",
    "version": 3
   },
   "file_extension": ".py",
   "mimetype": "text/x-python",
   "name": "python",
   "nbconvert_exporter": "python",
   "pygments_lexer": "ipython3",
   "version": "3.7.12"
  },
  "papermill": {
   "default_parameters": {},
   "duration": 14.583804,
   "end_time": "2022-05-05T15:21:49.633963",
   "environment_variables": {},
   "exception": null,
   "input_path": "__notebook__.ipynb",
   "output_path": "__notebook__.ipynb",
   "parameters": {},
   "start_time": "2022-05-05T15:21:35.050159",
   "version": "2.3.4"
  }
 },
 "nbformat": 4,
 "nbformat_minor": 5
}
